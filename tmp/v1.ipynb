{
 "cells": [
  {
   "cell_type": "code",
   "execution_count": 1,
   "metadata": {},
   "outputs": [],
   "source": [
    "import numpy as np\n",
    "from sklearn.datasets import make_regression\n",
    "from sklearn.model_selection import train_test_split\n",
    "from sklearn.metrics import mean_squared_error, r2_score\n",
    "\n",
    "class LinearRegressionNormal:\n",
    "    def __init__(self):\n",
    "        self.weights = None\n",
    "        self.bias = None\n",
    "\n",
    "    def fit(self, X, y):\n",
    "        X_b = np.c_[np.ones((X.shape[0], 1)), X]\n",
    "        theta = np.linalg.inv(X_b.T.dot(X_b)).dot(X_b.T).dot(y)\n",
    "        self.bias = theta[0]\n",
    "        self.weights = theta[1:]\n",
    "\n",
    "    def predict(self, X):\n",
    "        return X.dot(self.weights) + self.bias\n",
    "\n",
    "\n",
    "class LinearRegressionGradientDescent:\n",
    "    def __init__(self, learning_rate=0.01, n_iterations=1000):\n",
    "        self.learning_rate = learning_rate\n",
    "        self.n_iterations = n_iterations\n",
    "        self.weights = None\n",
    "        self.bias = None\n",
    "\n",
    "    def fit(self, X, y):\n",
    "        n_samples, n_features = X.shape\n",
    "        self.weights = np.zeros(n_features)\n",
    "        self.bias = 0\n",
    "\n",
    "        for _ in range(self.n_iterations):\n",
    "            y_pred = X.dot(self.weights) + self.bias\n",
    "            dw = -(2 / n_samples) * X.T.dot(y - y_pred)\n",
    "            db = -(2 / n_samples) * np.sum(y - y_pred)\n",
    "\n",
    "            self.weights -= self.learning_rate * dw\n",
    "            self.bias -= self.learning_rate * db\n",
    "\n",
    "    def predict(self, X):\n",
    "        return X.dot(self.weights) + self.bias\n",
    "\n"
   ]
  },
  {
   "cell_type": "code",
   "execution_count": 2,
   "metadata": {},
   "outputs": [
    {
     "name": "stdout",
     "output_type": "stream",
     "text": [
      "=== Normal Equation ===\n",
      "Mean Squared Error: 109.39\n",
      "R-squared: 0.99\n",
      "\n",
      "=== Gradient Descent ===\n",
      "Mean Squared Error: 109.39\n",
      "R-squared: 0.99\n"
     ]
    }
   ],
   "source": [
    "# Load a dataset\n",
    "X, y = make_regression(n_samples=200, n_features=1, noise=10, random_state=42)\n",
    "X_train, X_test, y_train, y_test = train_test_split(X, y, test_size=0.2, random_state=42)\n",
    "\n",
    "# Train and evaluate the Normal Equation model\n",
    "normal_model = LinearRegressionNormal()\n",
    "normal_model.fit(X_train, y_train)\n",
    "y_pred_normal = normal_model.predict(X_test)\n",
    "mse_normal = mean_squared_error(y_test, y_pred_normal)\n",
    "r2_normal = r2_score(y_test, y_pred_normal)\n",
    "\n",
    "# Train and evaluate the Gradient Descent model\n",
    "gd_model = LinearRegressionGradientDescent(learning_rate=0.1, n_iterations=1000)\n",
    "gd_model.fit(X_train, y_train)\n",
    "y_pred_gd = gd_model.predict(X_test)\n",
    "mse_gd = mean_squared_error(y_test, y_pred_gd)\n",
    "r2_gd = r2_score(y_test, y_pred_gd)\n",
    "\n",
    "# Results\n",
    "print(\"=== Normal Equation ===\")\n",
    "print(f\"Mean Squared Error: {mse_normal:.2f}\")\n",
    "print(f\"R-squared: {r2_normal:.2f}\")\n",
    "\n",
    "print(\"\\n=== Gradient Descent ===\")\n",
    "print(f\"Mean Squared Error: {mse_gd:.2f}\")\n",
    "print(f\"R-squared: {r2_gd:.2f}\")"
   ]
  },
  {
   "cell_type": "code",
   "execution_count": 3,
   "metadata": {},
   "outputs": [
    {
     "name": "stdout",
     "output_type": "stream",
     "text": [
      "Mean Squared Error: 109.39\n",
      "R-squared: 0.99\n"
     ]
    }
   ],
   "source": [
    "from sklearn.preprocessing import StandardScaler\n",
    "\n",
    "# Scale the independent variables (features)\n",
    "scaler_X = StandardScaler()\n",
    "X_train_scaled = scaler_X.fit_transform(X_train)\n",
    "X_test_scaled = scaler_X.transform(X_test)\n",
    "\n",
    "# Optional: Scale the dependent variable (target)\n",
    "scaler_y = StandardScaler()\n",
    "y_train_scaled = scaler_y.fit_transform(y_train.reshape(-1, 1)).ravel()\n",
    "y_test_scaled = scaler_y.transform(y_test.reshape(-1, 1)).ravel()\n",
    "\n",
    "# Fit gradient descent model using scaled data\n",
    "gd_model = LinearRegressionGradientDescent(learning_rate=0.1, n_iterations=1000)\n",
    "gd_model.fit(X_train_scaled, y_train_scaled)\n",
    "\n",
    "# Predict and reverse scale the target\n",
    "y_pred_scaled = gd_model.predict(X_test_scaled)\n",
    "y_pred = scaler_y.inverse_transform(y_pred_scaled.reshape(-1, 1)).ravel()\n",
    "\n",
    "# Evaluate\n",
    "mse = mean_squared_error(y_test, y_pred)\n",
    "r2 = r2_score(y_test, y_pred)\n",
    "print(f\"Mean Squared Error: {mse:.2f}\")\n",
    "print(f\"R-squared: {r2:.2f}\")\n"
   ]
  },
  {
   "cell_type": "code",
   "execution_count": null,
   "metadata": {},
   "outputs": [],
   "source": []
  }
 ],
 "metadata": {
  "kernelspec": {
   "display_name": "ml",
   "language": "python",
   "name": "python3"
  },
  "language_info": {
   "codemirror_mode": {
    "name": "ipython",
    "version": 3
   },
   "file_extension": ".py",
   "mimetype": "text/x-python",
   "name": "python",
   "nbconvert_exporter": "python",
   "pygments_lexer": "ipython3",
   "version": "3.12.4"
  }
 },
 "nbformat": 4,
 "nbformat_minor": 2
}
