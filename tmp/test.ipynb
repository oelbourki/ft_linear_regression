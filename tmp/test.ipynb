{
 "cells": [
  {
   "cell_type": "code",
   "execution_count": 47,
   "metadata": {},
   "outputs": [],
   "source": [
    "import numpy as np\n",
    "from numpy.linalg import inv\n",
    "from math import sqrt\n",
    "import numpy as np\n",
    "import pandas as pd\n",
    "from sklearn.preprocessing import MinMaxScaler\n",
    "from my_linear_regression import MyLinearRegression  # Assuming your class is in a separate file\n",
    "import matplotlib.pyplot as plt\n",
    "import pickle\n",
    "from sklearn.metrics import mean_squared_error, r2_score"
   ]
  },
  {
   "cell_type": "code",
   "execution_count": 48,
   "metadata": {},
   "outputs": [],
   "source": [
    "# class MyLinearRegression(object):\n",
    "#     \"\"\"    Description:        My personnal linear regression class to fit like a boss.   \n",
    "#     \"\"\"\n",
    "#     def __init__(self, theta):\n",
    "#         \"\"\"     Description:\n",
    "#         generator of the class, initialize self.\n",
    "#         Args:\n",
    "#             theta: has to be a list or a numpy array,\n",
    "#             it is a vector ofdimension (number of features + 1, 1).\n",
    "#             Raises:\n",
    "#            This method should noot raise any Exception.        \n",
    "#         \"\"\"\n",
    "#         if (not isinstance(theta, list) and not isinstance(theta, np.ndarray)\n",
    "#         and theta.shape[1] != 1):\n",
    "#             print(\"error\")\n",
    "#         if isinstance(theta, list):\n",
    "#             theta = np.array(theta).reshape(-1,1)\n",
    "#         self.theta = theta\n",
    "#     def setTheta(self, theta):\n",
    "#         if (not isinstance(theta, list) and not isinstance(theta, np.ndarray)\n",
    "#         and theta.shape[1] != 1):\n",
    "#             print(\"error\")\n",
    "#         if isinstance(theta, list):\n",
    "#             theta = np.array(theta)\n",
    "#         self.theta = theta\t\n",
    "#     def\tconcat(self, X):\n",
    "#         M = X.shape[0]\n",
    "#         ones = np.ones((M,1))\n",
    "#         X = np.concatenate((ones,X),axis=1)\n",
    "#         return X\n",
    "#     def predict_(self, X):\n",
    "#         X = self.concat(X)\n",
    "#         return X.dot(self.theta)\n",
    "#     def cost_elem_(self, X, Y):\n",
    "#         M = Y.shape[0]\n",
    "#         pred = X.dot(self.theta)\n",
    "#         return np.power((pred - Y),2,dtype=float) * (0.5 / M)\n",
    "#     def cost_(self, X, Y):\n",
    "#         return float(sum(self.cost_elem_(X, Y)))\n",
    "#     def grad_(self, error, X):\n",
    "#         X = self.concat(X)\n",
    "#         return (X.transpose()).dot(error)\n",
    "#     def mse_(self,X, Y):\n",
    "#         error = X.dot(self.theta) - Y\n",
    "#         M = float(Y.shape[0])\n",
    "#         return float(sum(np.power(error,2,dtype=float)) / M)\n",
    "#     def fit_(self, X, Y, alpha=1.6e-4,n_cycle=1000000):\n",
    "#         M = Y.shape[0]\n",
    "#         X = self.concat(X)\n",
    "#         for i in range(int(n_cycle)):\n",
    "#             error = X.dot(self.theta) - Y\n",
    "#             grad = (X.transpose()).dot(error)\n",
    "#             self.theta = self.theta - alpha * (1. / M ) * 0.5 * grad\n",
    "#             if i % 1000 == 0:\n",
    "#                 print(\"cost: {}\".format(self.mse_(X, Y)),end='\\r')\n",
    "#         return self.theta\n",
    "#     def normalequation_(self, X, Y):\n",
    "#         X = self.concat(X)\n",
    "#         X_t = X.transpose()\n",
    "#         xx_t = X_t.dot(X).astype(np.int)\n",
    "#         X_ty = X_t.dot(Y)\n",
    "#         xx_ti = inv(xx_t)\n",
    "#         print(self.theta.shape)\n",
    "#         self.theta = (xx_ti.transpose()).dot(X_ty)\n",
    "#         print(self.theta.shape)\n",
    "#         return self.theta\n",
    "#     def rmse_(self, X, Y):\n",
    "#         return float(sqrt(self.mse_(X,Y)))\n",
    "#     def r2score_(self, X, Y):\n",
    "#         Yp = self.predict_(X)\n",
    "#         meanY = np.mean(Y)\n",
    "#         SStot = np.power(Y - meanY, 2,dtype=float)\n",
    "#         SSres = np.power(Y - Yp, 2,dtype=float)\n",
    "#         return float(1 - float(SSres / SStot))"
   ]
  },
  {
   "cell_type": "code",
   "execution_count": 49,
   "metadata": {},
   "outputs": [],
   "source": [
    "class MyLinearRegression(object):\n",
    "    \"\"\"    Description:        My personnal linear regression class to fit like a boss.   \n",
    "    \"\"\"\n",
    "    def __init__(self, theta):\n",
    "        \"\"\"     Description:\n",
    "        generator of the class, initialize self.\n",
    "        Args:\n",
    "            theta: has to be a list or a numpy array,\n",
    "            it is a vector ofdimension (number of features + 1, 1).\n",
    "            Raises:\n",
    "           This method should noot raise any Exception.        \n",
    "        \"\"\"\n",
    "        if (not isinstance(theta, list) and not isinstance(theta, np.ndarray)\n",
    "        and theta.shape[1] != 1):\n",
    "            print(\"error\")\n",
    "        if isinstance(theta, list):\n",
    "            theta = np.array(theta).reshape(-1,1)\n",
    "        self.theta = theta\n",
    "    def setTheta(self, theta):\n",
    "        if (not isinstance(theta, list) and not isinstance(theta, np.ndarray)\n",
    "        and theta.shape[1] != 1):\n",
    "            print(\"error\")\n",
    "        if isinstance(theta, list):\n",
    "            theta = np.array(theta)\n",
    "        self.theta = theta\t\n",
    "    def\tconcat(self, X):\n",
    "        M = X.shape[0]\n",
    "        ones = np.ones((M,1))\n",
    "        X = np.concatenate((ones,X),axis=1)\n",
    "        return X\n",
    "    def predict_(self, X):\n",
    "        X = self.concat(X)\n",
    "        return X.dot(self.theta)\n",
    "    def cost_elem_(self, X, Y):\n",
    "        M = Y.shape[0]\n",
    "        pred = X.dot(self.theta)\n",
    "        return np.power((pred - Y),2,dtype=float) * (0.5 / M)\n",
    "    def cost_(self, X, Y):\n",
    "        return float(sum(self.cost_elem_(X, Y)))\n",
    "    def grad_(self, error, X):\n",
    "        X = self.concat(X)\n",
    "        return (X.transpose()).dot(error)\n",
    "    def mse_(self,X, Y):\n",
    "        error = X.dot(self.theta) - Y\n",
    "        M = float(Y.shape[0])\n",
    "        return float(sum(np.power(error,2,dtype=float)) / M)\n",
    "    def fit_(self, X, Y, alpha=1.6e-4, n_cycle=1000000):\n",
    "        \"\"\"\n",
    "        Train the model using gradient descent.\n",
    "        Parameters:\n",
    "            X: ndarray, shape (m, n)\n",
    "            Input features.\n",
    "            Y: ndarray, shape (m, 1)\n",
    "            Target values.\n",
    "            alpha: float\n",
    "            Learning rate.\n",
    "            n_cycle: int\n",
    "            Number of iterations.\n",
    "        Returns:\n",
    "            self.theta: ndarray, shape (n+1, 1)\n",
    "            Updated model parameters.\n",
    "        \"\"\"\n",
    "        m = Y.shape[0]  # Number of samples\n",
    "        X_augmented = self.concat(X)  # Add bias term (column of ones)\n",
    "        \n",
    "        for i in range(n_cycle):\n",
    "            # Compute predictions and error\n",
    "            predictions = X_augmented.dot(self.theta)  # Shape: (m, 1)\n",
    "            error = predictions - Y  # Shape: (m, 1)\n",
    "            \n",
    "            # Compute the gradient\n",
    "            gradient = X_augmented.T.dot(error) / m  # Shape: (n+1, 1)\n",
    "            \n",
    "            # Update parameters\n",
    "            self.theta -= alpha * gradient  # Gradient descent step\n",
    "            \n",
    "            # Optionally print the cost every 1000 iterations\n",
    "            if i % 1000 == 0:\n",
    "                cost = mean_squared_error(predictions, Y)  # Compute cost\n",
    "                print(f\"Iteration {i}: Cost {cost:.6f}\", end='\\r')\n",
    "\n",
    "        return self.theta\n",
    "    def normalequation_(self, X, Y):\n",
    "        X = self.concat(X)\n",
    "        X_t = X.transpose()\n",
    "        xx_t = X_t.dot(X).astype(np.int)\n",
    "        X_ty = X_t.dot(Y)\n",
    "        xx_ti = inv(xx_t)\n",
    "        print(self.theta.shape)\n",
    "        self.theta = (xx_ti.transpose()).dot(X_ty)\n",
    "        print(self.theta.shape)\n",
    "        return self.theta\n",
    "    def rmse_(self, X, Y):\n",
    "        return float(sqrt(self.mse_(X,Y)))\n",
    "    def r2score_(self, X, Y):\n",
    "        Yp = self.predict_(X)\n",
    "        meanY = np.mean(Y)\n",
    "        SStot = np.power(Y - meanY, 2,dtype=float)\n",
    "        SSres = np.power(Y - Yp, 2,dtype=float)\n",
    "        return float(1 - float(SSres / SStot))"
   ]
  },
  {
   "cell_type": "code",
   "execution_count": 50,
   "metadata": {},
   "outputs": [],
   "source": [
    "# Load the data\n",
    "data = pd.read_csv('data.csv')\n",
    "\n",
    "# Extract features (mileage) and target (price)\n",
    "x = data['km'].values.reshape(-1, 1)\n",
    "y = data['price'].values.reshape(-1, 1)\n",
    "\n",
    "# Normalize the data\n",
    "scaler_x = MinMaxScaler()\n",
    "scaler_y = MinMaxScaler()\n",
    "\n",
    "x_scaled = scaler_x.fit_transform(x)\n",
    "y_scaled = scaler_y.fit_transform(y)\n",
    "\n",
    "# Initialize theta with small random values\n",
    "theta = np.random.randn(2, 1) * np.sqrt(2. / x_scaled.shape[0])\n",
    "model = MyLinearRegression(theta)"
   ]
  },
  {
   "cell_type": "code",
   "execution_count": 51,
   "metadata": {},
   "outputs": [
    {
     "data": {
      "image/png": "[encoded data removed]",
      "text/plain": [
       "<Figure size 640x480 with 1 Axes>"
      ]
     },
     "metadata": {},
     "output_type": "display_data"
    }
   ],
   "source": [
    "plot1 = plt.plot(x, y, marker='o',linestyle='None')\n",
    "# plot2 = plt.plot(x, y)\n",
    "plt.xlabel('Quantity')\n",
    "plt.ylabel('Space Driveing Score')\n",
    "plt.legend({'pred':'true','true':'false'})\n",
    "plt.show()"
   ]
  },
  {
   "cell_type": "code",
   "execution_count": 52,
   "metadata": {},
   "outputs": [
    {
     "name": "stdout",
     "output_type": "stream",
     "text": [
      "Iteration 99000: Cost 0.035980\r"
     ]
    }
   ],
   "source": [
    "# Train the model and store theta values at periodic intervals\n",
    "model.fit_(x_scaled, y_scaled, alpha=1.6e-4, n_cycle=100000)\n",
    "\n",
    "# Save the trained parameters\n",
    "np.save('theta.npy', model.theta)\n",
    "\n",
    "# Save the scalers for the prediction program\n",
    "with open('scalers.pkl', 'wb') as f:\n",
    "    pickle.dump((scaler_x, scaler_y), f)\n",
    "\n",
    "# Evaluate the model\n",
    "y_pred_scaled = model.predict_(x_scaled)\n",
    "y_pred = scaler_y.inverse_transform(y_pred_scaled)\n",
    "y_true = scaler_y.inverse_transform(y_scaled)"
   ]
  },
  {
   "cell_type": "code",
   "execution_count": 53,
   "metadata": {},
   "outputs": [
    {
     "data": {
      "text/plain": [
       "((24, 1), (24, 1), (24, 1))"
      ]
     },
     "execution_count": 53,
     "metadata": {},
     "output_type": "execute_result"
    }
   ],
   "source": [
    "x.shape, y.shape, y_pred.shape"
   ]
  },
  {
   "cell_type": "code",
   "execution_count": null,
   "metadata": {},
   "outputs": [],
   "source": []
  },
  {
   "cell_type": "code",
   "execution_count": 54,
   "metadata": {},
   "outputs": [
    {
     "name": "stdout",
     "output_type": "stream",
     "text": [
      "Mean Squared Error (MSE): 769457.95\n",
      "Root Mean Squared Error (RMSE): 877.19\n",
      "R² Score: 0.54\n"
     ]
    }
   ],
   "source": [
    "mse = mean_squared_error(y_true, y_pred)\n",
    "rmse = np.sqrt(mse)\n",
    "r2 = r2_score(y_true, y_pred)\n",
    "\n",
    "print(f\"Mean Squared Error (MSE): {mse:.2f}\")\n",
    "print(f\"Root Mean Squared Error (RMSE): {rmse:.2f}\")\n",
    "print(f\"R² Score: {r2:.2f}\")"
   ]
  },
  {
   "cell_type": "code",
   "execution_count": 55,
   "metadata": {},
   "outputs": [
    {
     "data": {
      "image/png": "[encoded data removed]",
      "text/plain": [
       "<Figure size 640x480 with 1 Axes>"
      ]
     },
     "metadata": {},
     "output_type": "display_data"
    }
   ],
   "source": [
    "# Visualization\n",
    "plt.scatter(x, y, label='True Values', color='blue')\n",
    "plt.plot(x, y_pred, label='Regression Line', color='red')\n",
    "plt.xlabel('Mileage (km)')\n",
    "plt.ylabel('Price')\n",
    "plt.legend()\n",
    "plt.title('Linear Regression: Mileage vs Price')\n",
    "plt.show()"
   ]
  },
  {
   "cell_type": "code",
   "execution_count": null,
   "metadata": {},
   "outputs": [],
   "source": []
  }
 ],
 "metadata": {
  "kernelspec": {
   "display_name": "ml",
   "language": "python",
   "name": "python3"
  },
  "language_info": {
   "codemirror_mode": {
    "name": "ipython",
    "version": 3
   },
   "file_extension": ".py",
   "mimetype": "text/x-python",
   "name": "python",
   "nbconvert_exporter": "python",
   "pygments_lexer": "ipython3",
   "version": "3.12.4"
  }
 },
 "nbformat": 4,
 "nbformat_minor": 2
}
