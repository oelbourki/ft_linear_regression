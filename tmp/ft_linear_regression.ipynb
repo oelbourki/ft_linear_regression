{
 "cells": [
  {
   "cell_type": "code",
   "execution_count": 9,
   "metadata": {},
   "outputs": [],
   "source": [
    "import numpy as np\n",
    "import pandas as pd\n",
    "import matplotlib.pyplot as plt\n",
    "from sklearn.preprocessing import MinMaxScaler\n",
    "from numpy.linalg import inv\n",
    "from math import *"
   ]
  },
  {
   "cell_type": "code",
   "execution_count": 10,
   "metadata": {},
   "outputs": [],
   "source": [
    "data = pd.read_csv('data.csv')"
   ]
  },
  {
   "cell_type": "markdown",
   "metadata": {},
   "source": [
    "# using my code in ML bootcamp"
   ]
  },
  {
   "cell_type": "code",
   "execution_count": null,
   "metadata": {},
   "outputs": [],
   "source": [
    "class MyLinearRegression(object):\n",
    "    \"\"\"    Description:        My personnal linear regression class to fit like a boss.   \n",
    "    \"\"\"\n",
    "    def __init__(self, theta):\n",
    "        \"\"\"     Description:\n",
    "        generator of the class, initialize self.\n",
    "        Args:\n",
    "            theta: has to be a list or a numpy array,\n",
    "            it is a vector ofdimension (number of features + 1, 1).\n",
    "            Raises:\n",
    "           This method should noot raise any Exception.        \n",
    "        \"\"\"\n",
    "        if (not isinstance(theta, list) and not isinstance(theta, np.ndarray)\n",
    "        and theta.shape[1] != 1):\n",
    "            print(\"error\")\n",
    "        if isinstance(theta, list):\n",
    "            theta = np.array(theta).reshape(-1,1)\n",
    "        self.theta = theta\n",
    "    def setTheta(self, theta):\n",
    "        if (not isinstance(theta, list) and not isinstance(theta, np.ndarray)\n",
    "        and theta.shape[1] != 1):\n",
    "            print(\"error\")\n",
    "        if isinstance(theta, list):\n",
    "            theta = np.array(theta)\n",
    "        self.theta = theta\t\n",
    "    def\tconcat(self, X):\n",
    "        M = X.shape[0]\n",
    "        ones = np.ones((M,1))\n",
    "        X = np.concatenate((ones,X),axis=1)\n",
    "        return X\n",
    "    def predict_(self, X):\n",
    "        X = self.concat(X)\n",
    "        return X.dot(self.theta)\n",
    "    def cost_elem_(self, X, Y):\n",
    "        M = Y.shape[0]\n",
    "        pred = X.dot(self.theta)\n",
    "        return np.power((pred - Y),2,dtype=float) * (0.5 / M)\n",
    "    def cost_(self, X, Y):\n",
    "        return float(sum(self.cost_elem_(X, Y)))\n",
    "    def grad_(self, error, X):\n",
    "        X = self.concat(X)\n",
    "        return (X.transpose()).dot(error)\n",
    "    def mse_(self,X, Y):\n",
    "        error = X.dot(self.theta) - Y\n",
    "        M = float(Y.shape[0])\n",
    "        return float(sum(np.power(error,2,dtype=float)) / M)\n",
    "    def fit_(self, X, Y, alpha=1.6e-4,n_cycle=1000000):\n",
    "        M = Y.shape[0]\n",
    "        X = self.concat(X)\n",
    "        for i in range(int(n_cycle)):\n",
    "            error = X.dot(self.theta) - Y\n",
    "            grad = (X.transpose()).dot(error)\n",
    "            self.theta = self.theta - alpha * (1. / M ) * 0.5 * grad\n",
    "            if i % 1000 == 0:\n",
    "                print(\"cost: {}\".format(self.mse_(X, Y)),end='\\r')\n",
    "        return self.theta\n",
    "    def normalequation_(self, X, Y):\n",
    "        X = self.concat(X)\n",
    "        X_t = X.transpose()\n",
    "        xx_t = X_t.dot(X).astype(np.int)\n",
    "        X_ty = X_t.dot(Y)\n",
    "        xx_ti = inv(xx_t)\n",
    "        print(self.theta.shape)\n",
    "        self.theta = (xx_ti.transpose()).dot(X_ty)\n",
    "        print(self.theta.shape)\n",
    "        return self.theta\n",
    "    def rmse_(self, X, Y):\n",
    "        return float(sqrt(self.mse_(X,Y)))\n",
    "    def r2score_(self, X, Y):\n",
    "        Yp = self.predict_(X)\n",
    "        meanY = np.mean(Y)\n",
    "        SStot = np.power(Y - meanY, 2,dtype=float)\n",
    "        SSres = np.power(Y - Yp, 2,dtype=float)\n",
    "        return float(1 - float(SSres / SStot))"
   ]
  },
  {
   "cell_type": "code",
   "execution_count": 2,
   "metadata": {},
   "outputs": [
    {
     "ename": "NameError",
     "evalue": "name 'data' is not defined",
     "output_type": "error",
     "traceback": [
      "\u001b[0;31m---------------------------------------------------------------------------\u001b[0m",
      "\u001b[0;31mNameError\u001b[0m                                 Traceback (most recent call last)",
      "Cell \u001b[0;32mIn[2], line 1\u001b[0m\n\u001b[0;32m----> 1\u001b[0m \u001b[43mdata\u001b[49m\u001b[38;5;241m.\u001b[39mshape\n",
      "\u001b[0;31mNameError\u001b[0m: name 'data' is not defined"
     ]
    }
   ],
   "source": [
    "data.shape"
   ]
  },
  {
   "cell_type": "code",
   "execution_count": 3,
   "metadata": {},
   "outputs": [
    {
     "ename": "NameError",
     "evalue": "name 'np' is not defined",
     "output_type": "error",
     "traceback": [
      "\u001b[0;31m---------------------------------------------------------------------------\u001b[0m",
      "\u001b[0;31mNameError\u001b[0m                                 Traceback (most recent call last)",
      "Cell \u001b[0;32mIn[3], line 1\u001b[0m\n\u001b[0;32m----> 1\u001b[0m theta \u001b[38;5;241m=\u001b[39m \u001b[43mnp\u001b[49m\u001b[38;5;241m.\u001b[39mrandom\u001b[38;5;241m.\u001b[39mrandn(\u001b[38;5;241m2\u001b[39m,\u001b[38;5;241m1\u001b[39m)\u001b[38;5;241m*\u001b[39mnp\u001b[38;5;241m.\u001b[39msqrt(\u001b[38;5;241m2.\u001b[39m\u001b[38;5;241m/\u001b[39mdata\u001b[38;5;241m.\u001b[39mshape[\u001b[38;5;241m0\u001b[39m]) \u001b[38;5;66;03m# he init\u001b[39;00m\n\u001b[1;32m      2\u001b[0m theta\n",
      "\u001b[0;31mNameError\u001b[0m: name 'np' is not defined"
     ]
    }
   ],
   "source": [
    "theta = np.random.randn(2,1)*np.sqrt(2./data.shape[0]) # he init\n",
    "theta"
   ]
  },
  {
   "cell_type": "code",
   "execution_count": 14,
   "metadata": {},
   "outputs": [
    {
     "data": {
      "text/plain": [
       "array([[-0.05458924],\n",
       "       [-0.13532473]])"
      ]
     },
     "execution_count": 14,
     "metadata": {},
     "output_type": "execute_result"
    }
   ],
   "source": [
    "theta"
   ]
  },
  {
   "cell_type": "code",
   "execution_count": 15,
   "metadata": {},
   "outputs": [],
   "source": [
    "mo = MyLinearRegression(theta)"
   ]
  },
  {
   "cell_type": "code",
   "execution_count": 16,
   "metadata": {},
   "outputs": [],
   "source": [
    "x = data['km'].values.reshape(-1,1)\n",
    "y = data['price'].values.reshape(-1,1)"
   ]
  },
  {
   "cell_type": "markdown",
   "metadata": {},
   "source": [
    "scale data f"
   ]
  },
  {
   "cell_type": "code",
   "execution_count": 17,
   "metadata": {},
   "outputs": [],
   "source": [
    "scaler = MinMaxScaler()\n",
    "scaler = scaler.fit(x)\n",
    "x = scaler.transform(x)\n",
    "scaler = scaler.fit(y)\n",
    "y = scaler.transform(y)"
   ]
  },
  {
   "cell_type": "code",
   "execution_count": 23,
   "metadata": {},
   "outputs": [
    {
     "data": {
      "text/plain": [
       "(24, 1)"
      ]
     },
     "execution_count": 23,
     "metadata": {},
     "output_type": "execute_result"
    }
   ],
   "source": [
    "x.shape"
   ]
  },
  {
   "cell_type": "code",
   "execution_count": 18,
   "metadata": {},
   "outputs": [
    {
     "name": "stderr",
     "output_type": "stream",
     "text": [
      "/tmp/ipykernel_5269/2270767350.py:46: DeprecationWarning: Conversion of an array with ndim > 0 to a scalar is deprecated, and will error in future. Ensure you extract a single element from your array before performing this operation. (Deprecated NumPy 1.25.)\n",
      "  return float(sum(np.power(error,2,dtype=float)) / M)\n"
     ]
    },
    {
     "name": "stdout",
     "output_type": "stream",
     "text": [
      "cost: 0.020723271708125243\r"
     ]
    },
    {
     "data": {
      "text/plain": [
       "array([[ 0.93154645],\n",
       "       [-0.98306017]])"
      ]
     },
     "execution_count": 18,
     "metadata": {},
     "output_type": "execute_result"
    }
   ],
   "source": [
    "mo.fit_(x,y)"
   ]
  },
  {
   "cell_type": "code",
   "execution_count": 21,
   "metadata": {},
   "outputs": [
    {
     "data": {
      "text/plain": [
       "array([[-0.05151372],\n",
       "       [ 0.40220427],\n",
       "       [ 0.35375334],\n",
       "       [ 0.19513317],\n",
       "       [ 0.23828619],\n",
       "       [ 0.51540736],\n",
       "       [ 0.27994493],\n",
       "       [ 0.63223295],\n",
       "       [ 0.38092208],\n",
       "       [ 0.65487357],\n",
       "       [ 0.6637985 ],\n",
       "       [ 0.74969247],\n",
       "       [ 0.7001548 ],\n",
       "       [ 0.5937439 ],\n",
       "       [ 0.73185167],\n",
       "       [ 0.69098535],\n",
       "       [ 0.81682191],\n",
       "       [ 0.61412045],\n",
       "       [ 0.75925134],\n",
       "       [ 0.73785596],\n",
       "       [ 0.79071727],\n",
       "       [ 0.72505948],\n",
       "       [ 0.93154645],\n",
       "       [ 0.75544772]])"
      ]
     },
     "execution_count": 21,
     "metadata": {},
     "output_type": "execute_result"
    }
   ],
   "source": [
    "y_pred = mo.predict_(x)\n",
    "y_pred"
   ]
  },
  {
   "cell_type": "code",
   "execution_count": 20,
   "metadata": {},
   "outputs": [
    {
     "data": {
      "image/png": "[encoded data removed]",
      "text/plain": [
       "<Figure size 640x480 with 1 Axes>"
      ]
     },
     "metadata": {},
     "output_type": "display_data"
    }
   ],
   "source": [
    "plot1 = plt.plot(x, y, marker='o',linestyle='None')\n",
    "plot2 = plt.plot(x, y_pred)\n",
    "plt.xlabel('Quantity')\n",
    "plt.ylabel('Space Driveing Score')\n",
    "plt.legend({'pred':'true','true':'false'})\n",
    "plt.show()"
   ]
  },
  {
   "cell_type": "code",
   "execution_count": null,
   "metadata": {},
   "outputs": [],
   "source": []
  }
 ],
 "metadata": {
  "kernelspec": {
   "display_name": "ml",
   "language": "python",
   "name": "python3"
  },
  "language_info": {
   "codemirror_mode": {
    "name": "ipython",
    "version": 3
   },
   "file_extension": ".py",
   "mimetype": "text/x-python",
   "name": "python",
   "nbconvert_exporter": "python",
   "pygments_lexer": "ipython3",
   "version": "3.12.4"
  }
 },
 "nbformat": 4,
 "nbformat_minor": 4
}
